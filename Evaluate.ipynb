{
 "cells": [
  {
   "cell_type": "markdown",
   "metadata": {},
   "source": [
    "- packages"
   ]
  },
  {
   "cell_type": "code",
   "execution_count": 1,
   "metadata": {},
   "outputs": [],
   "source": [
    "using StatsBase\n",
    "using MLJ\n",
    "using Random\n",
    "using CategoricalArrays\n",
    "using PrettyPrinting\n",
    "using DataFrames\n",
    "using LossFunctions\n",
    "using XGBoost\n",
    "using MLJXGBoostInterface\n",
    "using CSV\n",
    "using Plots"
   ]
  },
  {
   "cell_type": "markdown",
   "metadata": {},
   "source": [
    "- import data set"
   ]
  },
  {
   "cell_type": "code",
   "execution_count": 2,
   "metadata": {
    "scrolled": true
   },
   "outputs": [
    {
     "name": "stdout",
     "output_type": "stream",
     "text": [
      "┌──────────────────────┬─────────┬────────────┐\n",
      "│\u001b[22m _.names              \u001b[0m│\u001b[22m _.types \u001b[0m│\u001b[22m _.scitypes \u001b[0m│\n",
      "├──────────────────────┼─────────┼────────────┤\n",
      "│ IFNg_serum           │ Float64 │ Continuous │\n",
      "│ IgE_serum            │ Float64 │ Continuous │\n",
      "│ IgG1_serum           │ Float64 │ Continuous │\n",
      "│ IgG2a_serum          │ Float64 │ Continuous │\n",
      "│ IL_4_serum           │ Float64 │ Continuous │\n",
      "│ IL_5_serum           │ Float64 │ Continuous │\n",
      "│ IL_10_serum          │ Float64 │ Continuous │\n",
      "│ IFNg_Ag_MLN_stim     │ Float64 │ Continuous │\n",
      "│ IFN_CD3_MLN_stim     │ Float64 │ Continuous │\n",
      "│ IFN_Media_MLN_stim   │ Float64 │ Continuous │\n",
      "│ IL_5_Media_MLN_stim  │ Float64 │ Continuous │\n",
      "│ IL_5_Ag_MLN_stim     │ Float64 │ Continuous │\n",
      "│ IL_5_CD3_MLN_stim    │ Float64 │ Continuous │\n",
      "│ IL_10_Media_MLN_stim │ Float64 │ Continuous │\n",
      "│ IL_10_CD_MLN_stim    │ Float64 │ Continuous │\n",
      "│ IL_10_Ag_MLN_stim    │ Float64 │ Continuous │\n",
      "│ IL_17_Media_MLN_stim │ Float64 │ Continuous │\n",
      "│ IL_17_CD_MLN_stim    │ Float64 │ Continuous │\n",
      "│ IL_17_Ag_MLN_stim    │ Float64 │ Continuous │\n",
      "│ wean_BW              │ Float64 │ Continuous │\n",
      "│ FinalBW              │ Float64 │ Continuous │\n",
      "│ ADWG                 │ Float64 │ Continuous │\n",
      "│ ADWG_expt            │ Float64 │ Continuous │\n",
      "│ ADWG_expt_diet       │ Float64 │ Continuous │\n",
      "│ spleen_wt            │ Float64 │ Continuous │\n",
      "│ Gut_wt               │ Float64 │ Continuous │\n",
      "│ Spl_BW               │ Float64 │ Continuous │\n",
      "│ Gut_BW               │ Float64 │ Continuous │\n",
      "│ granulomas           │ Int64   │ Count      │\n",
      "│ colon_contents       │ Float64 │ Continuous │\n",
      "│ wet_carcass_wt       │ Float64 │ Continuous │\n",
      "│ dry_carcass_wt       │ Float64 │ Continuous │\n",
      "│ Fat_                 │ Float64 │ Continuous │\n",
      "│ tWB                  │ Float64 │ Continuous │\n",
      "│ GAPDH_qPCR_gut       │ Float64 │ Continuous │\n",
      "│ Arg1_qPCR_gut        │ Float64 │ Continuous │\n",
      "│ CD36_qPCR_gut        │ Float64 │ Continuous │\n",
      "│ Idlr_qPCR_gut        │ Float64 │ Continuous │\n",
      "│ iNOS_qPCR_gut        │ Float64 │ Continuous │\n",
      "│ PPARg1_2_qPCR_gut    │ Float64 │ Continuous │\n",
      "│ RELMa_qPCR_gut       │ Float64 │ Continuous │\n",
      "│ Arg1_qPCR_spleen     │ Float64 │ Continuous │\n",
      "│ CD36_qPCR_spleen     │ Float64 │ Continuous │\n",
      "│ GAPDH_qPCR_spleen    │ Float64 │ Continuous │\n",
      "│ Idlr_qPCR_spleen     │ Float64 │ Continuous │\n",
      "│ iNOS_qPCR_spleen     │ Float64 │ Continuous │\n",
      "│ PPARg1_2_qPCR_spleen │ Float64 │ Continuous │\n",
      "│ RELMa_qPCR_spleen    │ Float64 │ Continuous │\n",
      "└──────────────────────┴─────────┴────────────┘\n",
      "_.nrows = 117\n"
     ]
    }
   ],
   "source": [
    "data = CSV.File(\"data/imputed_data.csv\", normalizenames = true) |> DataFrame\n",
    "X = data[:, 9:56]\n",
    "y = data[:, 57]\n",
    "show(stdout, MIME(\"text/plain\"), schema(X))"
   ]
  },
  {
   "cell_type": "markdown",
   "metadata": {},
   "source": [
    "- train and test set"
   ]
  },
  {
   "cell_type": "code",
   "execution_count": 3,
   "metadata": {},
   "outputs": [
    {
     "data": {
      "text/plain": [
       "([103, 4, 56, 24, 25, 83, 54, 23, 1, 102  …  104, 20, 22, 2, 115, 3, 91, 75, 14, 42], [12, 21, 52, 76, 64, 113, 34, 67, 8, 47  …  43, 110, 99, 30, 49, 84, 114, 112, 19, 48])"
      ]
     },
     "execution_count": 3,
     "metadata": {},
     "output_type": "execute_result"
    }
   ],
   "source": [
    "Random.seed!(523)\n",
    "perm = randperm(length(y))\n",
    "X = X[perm,:]\n",
    "y = y[perm];\n",
    "train, test = partition(eachindex(y), 0.70, shuffle=true, rng=52)"
   ]
  },
  {
   "cell_type": "markdown",
   "metadata": {},
   "source": [
    "- available models"
   ]
  },
  {
   "cell_type": "code",
   "execution_count": 4,
   "metadata": {},
   "outputs": [
    {
     "data": {
      "text/plain": [
       "NamedTuple{(:name, :package_name, :is_supervised, :docstring, :hyperparameter_ranges, :hyperparameter_types, :hyperparameters, :implemented_methods, :is_pure_julia, :is_wrapper, :load_path, :package_license, :package_url, :package_uuid, :prediction_type, :supports_online, :supports_weights, :input_scitype, :target_scitype, :output_scitype), T} where T<:Tuple[]"
      ]
     },
     "execution_count": 4,
     "metadata": {},
     "output_type": "execute_result"
    }
   ],
   "source": [
    "models(matching(X, y))"
   ]
  },
  {
   "cell_type": "markdown",
   "metadata": {},
   "source": [
    "## no matching models ?"
   ]
  },
  {
   "cell_type": "markdown",
   "metadata": {},
   "source": [
    "# 1. XGBoost"
   ]
  },
  {
   "cell_type": "markdown",
   "metadata": {},
   "source": [
    "## 1.1 load model and machine"
   ]
  },
  {
   "cell_type": "code",
   "execution_count": 5,
   "metadata": {},
   "outputs": [
    {
     "name": "stderr",
     "output_type": "stream",
     "text": [
      "┌ Info: For silent loading, specify `verbosity=0`. \n",
      "└ @ Main /Users/xinyuejia/.julia/packages/MLJModels/SlRVK/src/loading.jl:168\n"
     ]
    },
    {
     "name": "stdout",
     "output_type": "stream",
     "text": [
      "import MLJXGBoostInterface ✔\n"
     ]
    },
    {
     "data": {
      "text/plain": [
       "XGBoostCount(\n",
       "    num_round = 100,\n",
       "    booster = \"gbtree\",\n",
       "    disable_default_eval_metric = 0,\n",
       "    eta = 0.3,\n",
       "    gamma = 0.0,\n",
       "    max_depth = 6,\n",
       "    min_child_weight = 1.0,\n",
       "    max_delta_step = 0.0,\n",
       "    subsample = 1.0,\n",
       "    colsample_bytree = 1.0,\n",
       "    colsample_bylevel = 1.0,\n",
       "    lambda = 1.0,\n",
       "    alpha = 0.0,\n",
       "    tree_method = \"auto\",\n",
       "    sketch_eps = 0.03,\n",
       "    scale_pos_weight = 1.0,\n",
       "    updater = \"auto\",\n",
       "    refresh_leaf = 1,\n",
       "    process_type = \"default\",\n",
       "    grow_policy = \"depthwise\",\n",
       "    max_leaves = 0,\n",
       "    max_bin = 256,\n",
       "    predictor = \"cpu_predictor\",\n",
       "    sample_type = \"uniform\",\n",
       "    normalize_type = \"tree\",\n",
       "    rate_drop = 0.0,\n",
       "    one_drop = 0,\n",
       "    skip_drop = 0.0,\n",
       "    feature_selector = \"cyclic\",\n",
       "    top_k = 0,\n",
       "    tweedie_variance_power = 1.5,\n",
       "    objective = \"count:poisson\",\n",
       "    base_score = 0.5,\n",
       "    eval_metric = \"rmse\",\n",
       "    seed = 0)\u001b[34m @805\u001b[39m"
      ]
     },
     "execution_count": 5,
     "metadata": {},
     "output_type": "execute_result"
    }
   ],
   "source": [
    "@load XGBoostCount\n",
    "xgb_model = XGBoostCount()"
   ]
  },
  {
   "cell_type": "code",
   "execution_count": 6,
   "metadata": {},
   "outputs": [
    {
     "name": "stderr",
     "output_type": "stream",
     "text": [
      "┌ Warning: The scitype of `X`, in `machine(model, X, ...)` is incompatible with `model=\u001b[34mXGBoostCount @805\u001b[39m`:\n",
      "│ scitype(X) = Table{Union{AbstractVector{Continuous}, AbstractVector{Count}}}\n",
      "│ input_scitype(model) = Table{var\"#s46\"} where var\"#s46\"<:(AbstractVector{var\"#s9\"} where var\"#s9\"<:Continuous).\n",
      "└ @ MLJBase /Users/xinyuejia/.julia/packages/MLJBase/Wo1cb/src/machines.jl:91\n"
     ]
    },
    {
     "data": {
      "text/plain": [
       "\u001b[34mMachine{XGBoostCount,…} @171\u001b[39m trained 0 times; caches data\n",
       "  args: \n",
       "    1:\t\u001b[34mSource @052\u001b[39m ⏎ `Table{Union{AbstractVector{Continuous}, AbstractVector{Count}}}`\n",
       "    2:\t\u001b[34mSource @432\u001b[39m ⏎ `AbstractVector{Count}`\n"
      ]
     },
     "execution_count": 6,
     "metadata": {},
     "output_type": "execute_result"
    }
   ],
   "source": [
    "xgbm = machine(xgb_model, X, y)"
   ]
  },
  {
   "cell_type": "markdown",
   "metadata": {},
   "source": [
    "## 1.2 evaluate"
   ]
  },
  {
   "cell_type": "code",
   "execution_count": 7,
   "metadata": {},
   "outputs": [
    {
     "name": "stderr",
     "output_type": "stream",
     "text": [
      "┌ Info: Training \u001b[34mMachine{XGBoostCount,…} @171\u001b[39m.\n",
      "└ @ MLJBase /Users/xinyuejia/.julia/packages/MLJBase/Wo1cb/src/machines.jl:342\n",
      "[1]\ttrain-rmse:inf\n",
      "[2]\ttrain-rmse:inf\n",
      "[3]\ttrain-rmse:1583549219354968064.000000\n",
      "[4]\ttrain-rmse:1173122969182928896.000000\n",
      "[5]\ttrain-rmse:869071514060718080.000000\n",
      "[6]\ttrain-rmse:643824531202375680.000000\n",
      "[7]\ttrain-rmse:476957286451904512.000000\n",
      "[8]\ttrain-rmse:353338919263141888.000000\n",
      "[9]\ttrain-rmse:261760114749341696.000000\n",
      "[10]\ttrain-rmse:193916811341725696.000000\n",
      "[11]\ttrain-rmse:143657224303017984.000000\n",
      "[12]\ttrain-rmse:106423963835432960.000000\n",
      "[13]\ttrain-rmse:78840867816734720.000000\n",
      "[14]\ttrain-rmse:58406800696803328.000000\n",
      "[15]\ttrain-rmse:43268849159634944.000000\n",
      "[16]\ttrain-rmse:32054380312133632.000000\n",
      "[17]\ttrain-rmse:23746483337560064.000000\n",
      "[18]\ttrain-rmse:17591844594515968.000000\n",
      "[19]\ttrain-rmse:13032367442624512.000000\n",
      "[20]\ttrain-rmse:9654622624940032.000000\n",
      "[21]\ttrain-rmse:7152325286166528.000000\n",
      "[22]\ttrain-rmse:5298577135894528.000000\n",
      "[23]\ttrain-rmse:3925285502189568.000000\n",
      "[24]\ttrain-rmse:2907925324496896.000000\n",
      "[25]\ttrain-rmse:2154245805572096.000000\n",
      "[26]\ttrain-rmse:1595905560018944.000000\n",
      "[27]\ttrain-rmse:1182276989747200.000000\n",
      "[28]\ttrain-rmse:875852950667264.000000\n",
      "[29]\ttrain-rmse:648848292708352.000000\n",
      "[30]\ttrain-rmse:480679016005632.000000\n",
      "[31]\ttrain-rmse:356096074055680.000000\n",
      "[32]\ttrain-rmse:263802629128192.000000\n",
      "[33]\ttrain-rmse:195429971001344.000000\n",
      "[34]\ttrain-rmse:144778196942848.000000\n",
      "[35]\ttrain-rmse:107254393077760.000000\n",
      "[36]\ttrain-rmse:79456064503808.000000\n",
      "[37]\ttrain-rmse:58862547763200.000000\n",
      "[38]\ttrain-rmse:43606484189184.000000\n",
      "[39]\ttrain-rmse:32304497950720.000000\n",
      "[40]\ttrain-rmse:23931782168576.000000\n",
      "[41]\ttrain-rmse:17729113292800.000000\n",
      "[42]\ttrain-rmse:13134060322816.000000\n",
      "[43]\ttrain-rmse:9729959002112.000000\n",
      "[44]\ttrain-rmse:7208135819264.000000\n",
      "[45]\ttrain-rmse:5339923087360.000000\n",
      "[46]\ttrain-rmse:3955915227136.000000\n",
      "[47]\ttrain-rmse:2930616041472.000000\n",
      "[48]\ttrain-rmse:2171055636480.000000\n",
      "[49]\ttrain-rmse:1608358821888.000000\n",
      "[50]\ttrain-rmse:1191502413824.000000\n",
      "[51]\ttrain-rmse:882687279104.000000\n",
      "[52]\ttrain-rmse:653911326720.000000\n",
      "[53]\ttrain-rmse:484429791232.000000\n",
      "[54]\ttrain-rmse:358874742784.000000\n",
      "[55]\ttrain-rmse:265861152768.000000\n",
      "[56]\ttrain-rmse:196954914816.000000\n",
      "[57]\ttrain-rmse:145907892224.000000\n",
      "[58]\ttrain-rmse:108091301888.000000\n",
      "[59]\ttrain-rmse:80076070912.000000\n",
      "[60]\ttrain-rmse:59321856000.000000\n",
      "[61]\ttrain-rmse:43946745856.000000\n",
      "[62]\ttrain-rmse:32556580864.000000\n",
      "[63]\ttrain-rmse:24118525952.000000\n",
      "[64]\ttrain-rmse:17867454464.000000\n",
      "[65]\ttrain-rmse:13236546560.000000\n",
      "[66]\ttrain-rmse:9805882368.000000\n",
      "[67]\ttrain-rmse:7264381440.000000\n",
      "[68]\ttrain-rmse:5381591040.000000\n",
      "[69]\ttrain-rmse:3986783488.000000\n",
      "[70]\ttrain-rmse:2953484032.000000\n",
      "[71]\ttrain-rmse:2187996416.000000\n",
      "[72]\ttrain-rmse:1620908928.000000\n",
      "[73]\ttrain-rmse:1200799872.000000\n",
      "[74]\ttrain-rmse:889575040.000000\n",
      "[75]\ttrain-rmse:659013824.000000\n",
      "[76]\ttrain-rmse:488209888.000000\n",
      "[77]\ttrain-rmse:361675008.000000\n",
      "[78]\ttrain-rmse:267935632.000000\n",
      "[79]\ttrain-rmse:198491728.000000\n",
      "[80]\ttrain-rmse:147046416.000000\n",
      "[81]\ttrain-rmse:108934744.000000\n",
      "[82]\ttrain-rmse:80700888.000000\n",
      "[83]\ttrain-rmse:59784732.000000\n",
      "[84]\ttrain-rmse:44289644.000000\n",
      "[85]\ttrain-rmse:32810596.000000\n",
      "[86]\ttrain-rmse:24306698.000000\n",
      "[87]\ttrain-rmse:18006852.000000\n",
      "[88]\ttrain-rmse:13339808.000000\n",
      "[89]\ttrain-rmse:9882374.000000\n",
      "[90]\ttrain-rmse:7321042.000000\n",
      "[91]\ttrain-rmse:5423563.000000\n",
      "[92]\ttrain-rmse:4017878.500000\n",
      "[93]\ttrain-rmse:2976522.250000\n",
      "[94]\ttrain-rmse:2205065.500000\n",
      "[95]\ttrain-rmse:1633556.500000\n",
      "[96]\ttrain-rmse:1210171.500000\n",
      "[97]\ttrain-rmse:896520.687500\n",
      "[98]\ttrain-rmse:664162.312500\n",
      "[99]\ttrain-rmse:492027.218750\n",
      "[100]\ttrain-rmse:364506.187500\n"
     ]
    },
    {
     "data": {
      "text/plain": [
       "CV(\n",
       "    nfolds = 6,\n",
       "    shuffle = false,\n",
       "    rng = Random._GLOBAL_RNG())\u001b[34m @484\u001b[39m"
      ]
     },
     "execution_count": 7,
     "metadata": {},
     "output_type": "execute_result"
    }
   ],
   "source": [
    "mach = fit!(xgbm)\n",
    "cv=CV(nfolds=6)"
   ]
  },
  {
   "cell_type": "code",
   "execution_count": 11,
   "metadata": {},
   "outputs": [
    {
     "data": {
      "text/plain": [
       "┌───────────────────────────────────────────────────────────────┬───────────────\n",
       "│\u001b[22m _.measure                                                     \u001b[0m│\u001b[22m _.measuremen\u001b[0m ⋯\n",
       "├───────────────────────────────────────────────────────────────┼───────────────\n",
       "│ \\e[34mLPLoss{Int64} @213\\e[39m                                │ 30600.0      ⋯\n",
       "│ RootMeanSquaredError @901                                     │ 202000.0     ⋯\n",
       "│ \\e[34mRootMeanSquaredLogProportionalError{Float64} @758\\e[39m │ 2.22         ⋯\n",
       "└───────────────────────────────────────────────────────────────┴───────────────\n",
       "\u001b[36m                                                               2 columns omitted\u001b[0m\n",
       "_.per_observation = [[[2.0, 4.7399998e-14, ..., 21.0], [4.75e-14, 4.75e-14, ..., 4.75e-14], [52.2, 13.0, ..., 0.000471], [5.0, 14.0, ..., 4.7399998e-14], [14.0, 4.7399998e-14, ..., 4.7399998e-14], [6.0, 1.0, ..., 10.0]], missing, missing]\n",
       "_.fitted_params_per_fold = [ … ]\n",
       "_.report_per_fold = [ … ]\n"
      ]
     },
     "execution_count": 11,
     "metadata": {},
     "output_type": "execute_result"
    }
   ],
   "source": [
    "evaluate!(mach, resampling=cv, measure=[l1, rms, rmslp1], verbosity=0)"
   ]
  },
  {
   "cell_type": "markdown",
   "metadata": {},
   "source": [
    "## 1.3 tuning "
   ]
  },
  {
   "cell_type": "markdown",
   "metadata": {},
   "source": [
    "### 1.3.1 tuning 1"
   ]
  },
  {
   "cell_type": "code",
   "execution_count": 12,
   "metadata": {},
   "outputs": [
    {
     "name": "stderr",
     "output_type": "stream",
     "text": [
      "┌ Warning: The scitype of `X`, in `machine(model, X, ...)` is incompatible with `model=\u001b[34mDeterministicTunedModel{Grid,…} @080\u001b[39m`:\n",
      "│ scitype(X) = Table{Union{AbstractVector{Continuous}, AbstractVector{Count}}}\n",
      "│ input_scitype(model) = Table{var\"#s46\"} where var\"#s46\"<:(AbstractVector{var\"#s9\"} where var\"#s9\"<:Continuous).\n",
      "└ @ MLJBase /Users/xinyuejia/.julia/packages/MLJBase/Wo1cb/src/machines.jl:91\n"
     ]
    },
    {
     "data": {
      "text/plain": [
       "\u001b[34mMachine{DeterministicTunedModel{Grid,…},…} @178\u001b[39m trained 0 times; caches data\n",
       "  args: \n",
       "    1:\t\u001b[34mSource @708\u001b[39m ⏎ `Table{Union{AbstractVector{Continuous}, AbstractVector{Count}}}`\n",
       "    2:\t\u001b[34mSource @472\u001b[39m ⏎ `AbstractVector{Count}`\n"
      ]
     },
     "execution_count": 12,
     "metadata": {},
     "output_type": "execute_result"
    }
   ],
   "source": [
    "r1 = range(xgb_model, :max_depth, lower=3, upper=10)\n",
    "r2 = range(xgb_model, :min_child_weight, lower=0, upper=5)\n",
    "tm = TunedModel(model=xgb_model, tuning=Grid(resolution=10),\n",
    "                resampling=CV(nfolds = 6), ranges=[r1,r2],\n",
    "                measure=rms)\n",
    "\n",
    "mtm = machine(tm, X, y)"
   ]
  },
  {
   "cell_type": "code",
   "execution_count": 13,
   "metadata": {},
   "outputs": [
    {
     "name": "stderr",
     "output_type": "stream",
     "text": [
      "┌ Info: Training \u001b[34mMachine{DeterministicTunedModel{Grid,…},…} @178\u001b[39m.\n",
      "└ @ MLJBase /Users/xinyuejia/.julia/packages/MLJBase/Wo1cb/src/machines.jl:342\n",
      "┌ Info: Attempting to evaluate 80 models.\n",
      "└ @ MLJTuning /Users/xinyuejia/.julia/packages/MLJTuning/wBJ80/src/tuned_models.jl:566\n",
      "┌ Warning: The scitype of `X`, in `machine(model, X, ...)` is incompatible with `model=\u001b[34mResampler{CV,…} @710\u001b[39m`:\n",
      "│ scitype(X) = Table{Union{AbstractVector{Continuous}, AbstractVector{Count}}}\n",
      "│ input_scitype(model) = Table{var\"#s46\"} where var\"#s46\"<:(AbstractVector{var\"#s9\"} where var\"#s9\"<:Continuous).\n",
      "└ @ MLJBase /Users/xinyuejia/.julia/packages/MLJBase/Wo1cb/src/machines.jl:91\n",
      "\u001b[33mEvaluating over 80 metamodels:   0%[>                        ]  ETA: N/A\u001b[39m┌ Warning: The scitype of `X`, in `machine(model, X, ...)` is incompatible with `model=\u001b[34mXGBoostCount @586\u001b[39m`:\n",
      "│ scitype(X) = Table{Union{AbstractVector{Continuous}, AbstractVector{Count}}}\n",
      "│ input_scitype(model) = Table{var\"#s46\"} where var\"#s46\"<:(AbstractVector{var\"#s9\"} where var\"#s9\"<:Continuous).\n",
      "└ @ MLJBase /Users/xinyuejia/.julia/packages/MLJBase/Wo1cb/src/machines.jl:91\n",
      "\u001b[33mEvaluating over 80 metamodels:   1%[>                        ]  ETA: 0:01:35\u001b[39m┌ Warning: The scitype of `X`, in `machine(model, X, ...)` is incompatible with `model=\u001b[34mXGBoostCount @176\u001b[39m`:\n",
      "│ scitype(X) = Table{Union{AbstractVector{Continuous}, AbstractVector{Count}}}\n",
      "│ input_scitype(model) = Table{var\"#s46\"} where var\"#s46\"<:(AbstractVector{var\"#s9\"} where var\"#s9\"<:Continuous).\n",
      "└ @ MLJBase /Users/xinyuejia/.julia/packages/MLJBase/Wo1cb/src/machines.jl:91\n",
      "\u001b[33mEvaluating over 80 metamodels:   2%[>                        ]  ETA: 0:00:54\u001b[39m┌ Warning: The scitype of `X`, in `machine(model, X, ...)` is incompatible with `model=\u001b[34mXGBoostCount @536\u001b[39m`:\n",
      "│ scitype(X) = Table{Union{AbstractVector{Continuous}, AbstractVector{Count}}}\n",
      "│ input_scitype(model) = Table{var\"#s46\"} where var\"#s46\"<:(AbstractVector{var\"#s9\"} where var\"#s9\"<:Continuous).\n",
      "└ @ MLJBase /Users/xinyuejia/.julia/packages/MLJBase/Wo1cb/src/machines.jl:91\n",
      "\u001b[33mEvaluating over 80 metamodels:   4%[>                        ]  ETA: 0:00:38\u001b[39m┌ Warning: The scitype of `X`, in `machine(model, X, ...)` is incompatible with `model=\u001b[34mXGBoostCount @691\u001b[39m`:\n",
      "│ scitype(X) = Table{Union{AbstractVector{Continuous}, AbstractVector{Count}}}\n",
      "│ input_scitype(model) = Table{var\"#s46\"} where var\"#s46\"<:(AbstractVector{var\"#s9\"} where var\"#s9\"<:Continuous).\n",
      "└ @ MLJBase /Users/xinyuejia/.julia/packages/MLJBase/Wo1cb/src/machines.jl:91\n",
      "\u001b[33mEvaluating over 80 metamodels:   5%[=>                       ]  ETA: 0:00:32\u001b[39m┌ Warning: The scitype of `X`, in `machine(model, X, ...)` is incompatible with `model=\u001b[34mXGBoostCount @780\u001b[39m`:\n",
      "│ scitype(X) = Table{Union{AbstractVector{Continuous}, AbstractVector{Count}}}\n",
      "│ input_scitype(model) = Table{var\"#s46\"} where var\"#s46\"<:(AbstractVector{var\"#s9\"} where var\"#s9\"<:Continuous).\n",
      "└ @ MLJBase /Users/xinyuejia/.julia/packages/MLJBase/Wo1cb/src/machines.jl:91\n",
      "\u001b[33mEvaluating over 80 metamodels:   6%[=>                       ]  ETA: 0:00:28\u001b[39m┌ Warning: The scitype of `X`, in `machine(model, X, ...)` is incompatible with `model=\u001b[34mXGBoostCount @130\u001b[39m`:\n",
      "│ scitype(X) = Table{Union{AbstractVector{Continuous}, AbstractVector{Count}}}\n",
      "│ input_scitype(model) = Table{var\"#s46\"} where var\"#s46\"<:(AbstractVector{var\"#s9\"} where var\"#s9\"<:Continuous).\n",
      "└ @ MLJBase /Users/xinyuejia/.julia/packages/MLJBase/Wo1cb/src/machines.jl:91\n",
      "\u001b[33mEvaluating over 80 metamodels:   8%[=>                       ]  ETA: 0:00:27\u001b[39m┌ Warning: The scitype of `X`, in `machine(model, X, ...)` is incompatible with `model=\u001b[34mXGBoostCount @157\u001b[39m`:\n",
      "│ scitype(X) = Table{Union{AbstractVector{Continuous}, AbstractVector{Count}}}\n",
      "│ input_scitype(model) = Table{var\"#s46\"} where var\"#s46\"<:(AbstractVector{var\"#s9\"} where var\"#s9\"<:Continuous).\n",
      "└ @ MLJBase /Users/xinyuejia/.julia/packages/MLJBase/Wo1cb/src/machines.jl:91\n",
      "\u001b[33mEvaluating over 80 metamodels:   9%[==>                      ]  ETA: 0:00:24\u001b[39m┌ Warning: The scitype of `X`, in `machine(model, X, ...)` is incompatible with `model=\u001b[34mXGBoostCount @230\u001b[39m`:\n",
      "│ scitype(X) = Table{Union{AbstractVector{Continuous}, AbstractVector{Count}}}\n",
      "│ input_scitype(model) = Table{var\"#s46\"} where var\"#s46\"<:(AbstractVector{var\"#s9\"} where var\"#s9\"<:Continuous).\n",
      "└ @ MLJBase /Users/xinyuejia/.julia/packages/MLJBase/Wo1cb/src/machines.jl:91\n",
      "\u001b[33mEvaluating over 80 metamodels:  10%[==>                      ]  ETA: 0:00:23\u001b[39m┌ Warning: The scitype of `X`, in `machine(model, X, ...)` is incompatible with `model=\u001b[34mXGBoostCount @885\u001b[39m`:\n",
      "│ scitype(X) = Table{Union{AbstractVector{Continuous}, AbstractVector{Count}}}\n",
      "│ input_scitype(model) = Table{var\"#s46\"} where var\"#s46\"<:(AbstractVector{var\"#s9\"} where var\"#s9\"<:Continuous).\n",
      "└ @ MLJBase /Users/xinyuejia/.julia/packages/MLJBase/Wo1cb/src/machines.jl:91\n",
      "\u001b[33mEvaluating over 80 metamodels:  11%[==>                      ]  ETA: 0:00:21\u001b[39m┌ Warning: The scitype of `X`, in `machine(model, X, ...)` is incompatible with `model=\u001b[34mXGBoostCount @561\u001b[39m`:\n",
      "│ scitype(X) = Table{Union{AbstractVector{Continuous}, AbstractVector{Count}}}\n",
      "│ input_scitype(model) = Table{var\"#s46\"} where var\"#s46\"<:(AbstractVector{var\"#s9\"} where var\"#s9\"<:Continuous).\n",
      "└ @ MLJBase /Users/xinyuejia/.julia/packages/MLJBase/Wo1cb/src/machines.jl:91\n",
      "\u001b[33mEvaluating over 80 metamodels:  12%[===>                     ]  ETA: 0:00:20\u001b[39m┌ Warning: The scitype of `X`, in `machine(model, X, ...)` is incompatible with `model=\u001b[34mXGBoostCount @958\u001b[39m`:\n",
      "│ scitype(X) = Table{Union{AbstractVector{Continuous}, AbstractVector{Count}}}\n",
      "│ input_scitype(model) = Table{var\"#s46\"} where var\"#s46\"<:(AbstractVector{var\"#s9\"} where var\"#s9\"<:Continuous).\n",
      "└ @ MLJBase /Users/xinyuejia/.julia/packages/MLJBase/Wo1cb/src/machines.jl:91\n",
      "\u001b[33mEvaluating over 80 metamodels:  14%[===>                     ]  ETA: 0:00:20\u001b[39m┌ Warning: The scitype of `X`, in `machine(model, X, ...)` is incompatible with `model=\u001b[34mXGBoostCount @389\u001b[39m`:\n",
      "│ scitype(X) = Table{Union{AbstractVector{Continuous}, AbstractVector{Count}}}\n",
      "│ input_scitype(model) = Table{var\"#s46\"} where var\"#s46\"<:(AbstractVector{var\"#s9\"} where var\"#s9\"<:Continuous).\n",
      "└ @ MLJBase /Users/xinyuejia/.julia/packages/MLJBase/Wo1cb/src/machines.jl:91\n",
      "\u001b[33mEvaluating over 80 metamodels:  15%[===>                     ]  ETA: 0:00:20\u001b[39m┌ Warning: The scitype of `X`, in `machine(model, X, ...)` is incompatible with `model=\u001b[34mXGBoostCount @033\u001b[39m`:\n",
      "│ scitype(X) = Table{Union{AbstractVector{Continuous}, AbstractVector{Count}}}\n",
      "│ input_scitype(model) = Table{var\"#s46\"} where var\"#s46\"<:(AbstractVector{var\"#s9\"} where var\"#s9\"<:Continuous).\n",
      "└ @ MLJBase /Users/xinyuejia/.julia/packages/MLJBase/Wo1cb/src/machines.jl:91\n",
      "\u001b[33mEvaluating over 80 metamodels:  16%[====>                    ]  ETA: 0:00:20\u001b[39m┌ Warning: The scitype of `X`, in `machine(model, X, ...)` is incompatible with `model=\u001b[34mXGBoostCount @228\u001b[39m`:\n",
      "│ scitype(X) = Table{Union{AbstractVector{Continuous}, AbstractVector{Count}}}\n",
      "│ input_scitype(model) = Table{var\"#s46\"} where var\"#s46\"<:(AbstractVector{var\"#s9\"} where var\"#s9\"<:Continuous).\n",
      "└ @ MLJBase /Users/xinyuejia/.julia/packages/MLJBase/Wo1cb/src/machines.jl:91\n",
      "\u001b[33mEvaluating over 80 metamodels:  18%[====>                    ]  ETA: 0:00:19\u001b[39m┌ Warning: The scitype of `X`, in `machine(model, X, ...)` is incompatible with `model=\u001b[34mXGBoostCount @825\u001b[39m`:\n",
      "│ scitype(X) = Table{Union{AbstractVector{Continuous}, AbstractVector{Count}}}\n",
      "│ input_scitype(model) = Table{var\"#s46\"} where var\"#s46\"<:(AbstractVector{var\"#s9\"} where var\"#s9\"<:Continuous).\n",
      "└ @ MLJBase /Users/xinyuejia/.julia/packages/MLJBase/Wo1cb/src/machines.jl:91\n",
      "\u001b[33mEvaluating over 80 metamodels:  19%[====>                    ]  ETA: 0:00:19\u001b[39m┌ Warning: The scitype of `X`, in `machine(model, X, ...)` is incompatible with `model=\u001b[34mXGBoostCount @482\u001b[39m`:\n",
      "│ scitype(X) = Table{Union{AbstractVector{Continuous}, AbstractVector{Count}}}\n",
      "│ input_scitype(model) = Table{var\"#s46\"} where var\"#s46\"<:(AbstractVector{var\"#s9\"} where var\"#s9\"<:Continuous).\n",
      "└ @ MLJBase /Users/xinyuejia/.julia/packages/MLJBase/Wo1cb/src/machines.jl:91\n"
     ]
    },
    {
     "name": "stderr",
     "output_type": "stream",
     "text": [
      "\u001b[33mEvaluating over 80 metamodels:  20%[=====>                   ]  ETA: 0:00:18\u001b[39m┌ Warning: The scitype of `X`, in `machine(model, X, ...)` is incompatible with `model=\u001b[34mXGBoostCount @570\u001b[39m`:\n",
      "│ scitype(X) = Table{Union{AbstractVector{Continuous}, AbstractVector{Count}}}\n",
      "│ input_scitype(model) = Table{var\"#s46\"} where var\"#s46\"<:(AbstractVector{var\"#s9\"} where var\"#s9\"<:Continuous).\n",
      "└ @ MLJBase /Users/xinyuejia/.julia/packages/MLJBase/Wo1cb/src/machines.jl:91\n",
      "\u001b[33mEvaluating over 80 metamodels:  21%[=====>                   ]  ETA: 0:00:17\u001b[39m┌ Warning: The scitype of `X`, in `machine(model, X, ...)` is incompatible with `model=\u001b[34mXGBoostCount @311\u001b[39m`:\n",
      "│ scitype(X) = Table{Union{AbstractVector{Continuous}, AbstractVector{Count}}}\n",
      "│ input_scitype(model) = Table{var\"#s46\"} where var\"#s46\"<:(AbstractVector{var\"#s9\"} where var\"#s9\"<:Continuous).\n",
      "└ @ MLJBase /Users/xinyuejia/.julia/packages/MLJBase/Wo1cb/src/machines.jl:91\n",
      "\u001b[33mEvaluating over 80 metamodels:  22%[=====>                   ]  ETA: 0:00:17\u001b[39m┌ Warning: The scitype of `X`, in `machine(model, X, ...)` is incompatible with `model=\u001b[34mXGBoostCount @499\u001b[39m`:\n",
      "│ scitype(X) = Table{Union{AbstractVector{Continuous}, AbstractVector{Count}}}\n",
      "│ input_scitype(model) = Table{var\"#s46\"} where var\"#s46\"<:(AbstractVector{var\"#s9\"} where var\"#s9\"<:Continuous).\n",
      "└ @ MLJBase /Users/xinyuejia/.julia/packages/MLJBase/Wo1cb/src/machines.jl:91\n",
      "\u001b[33mEvaluating over 80 metamodels:  24%[=====>                   ]  ETA: 0:00:16\u001b[39m┌ Warning: The scitype of `X`, in `machine(model, X, ...)` is incompatible with `model=\u001b[34mXGBoostCount @485\u001b[39m`:\n",
      "│ scitype(X) = Table{Union{AbstractVector{Continuous}, AbstractVector{Count}}}\n",
      "│ input_scitype(model) = Table{var\"#s46\"} where var\"#s46\"<:(AbstractVector{var\"#s9\"} where var\"#s9\"<:Continuous).\n",
      "└ @ MLJBase /Users/xinyuejia/.julia/packages/MLJBase/Wo1cb/src/machines.jl:91\n",
      "\u001b[33mEvaluating over 80 metamodels:  25%[======>                  ]  ETA: 0:00:16\u001b[39m┌ Warning: The scitype of `X`, in `machine(model, X, ...)` is incompatible with `model=\u001b[34mXGBoostCount @006\u001b[39m`:\n",
      "│ scitype(X) = Table{Union{AbstractVector{Continuous}, AbstractVector{Count}}}\n",
      "│ input_scitype(model) = Table{var\"#s46\"} where var\"#s46\"<:(AbstractVector{var\"#s9\"} where var\"#s9\"<:Continuous).\n",
      "└ @ MLJBase /Users/xinyuejia/.julia/packages/MLJBase/Wo1cb/src/machines.jl:91\n",
      "\u001b[33mEvaluating over 80 metamodels:  26%[======>                  ]  ETA: 0:00:15\u001b[39m┌ Warning: The scitype of `X`, in `machine(model, X, ...)` is incompatible with `model=\u001b[34mXGBoostCount @724\u001b[39m`:\n",
      "│ scitype(X) = Table{Union{AbstractVector{Continuous}, AbstractVector{Count}}}\n",
      "│ input_scitype(model) = Table{var\"#s46\"} where var\"#s46\"<:(AbstractVector{var\"#s9\"} where var\"#s9\"<:Continuous).\n",
      "└ @ MLJBase /Users/xinyuejia/.julia/packages/MLJBase/Wo1cb/src/machines.jl:91\n",
      "\u001b[33mEvaluating over 80 metamodels:  28%[======>                  ]  ETA: 0:00:15\u001b[39m┌ Warning: The scitype of `X`, in `machine(model, X, ...)` is incompatible with `model=\u001b[34mXGBoostCount @278\u001b[39m`:\n",
      "│ scitype(X) = Table{Union{AbstractVector{Continuous}, AbstractVector{Count}}}\n",
      "│ input_scitype(model) = Table{var\"#s46\"} where var\"#s46\"<:(AbstractVector{var\"#s9\"} where var\"#s9\"<:Continuous).\n",
      "└ @ MLJBase /Users/xinyuejia/.julia/packages/MLJBase/Wo1cb/src/machines.jl:91\n",
      "\u001b[33mEvaluating over 80 metamodels:  29%[=======>                 ]  ETA: 0:00:14\u001b[39m┌ Warning: The scitype of `X`, in `machine(model, X, ...)` is incompatible with `model=\u001b[34mXGBoostCount @996\u001b[39m`:\n",
      "│ scitype(X) = Table{Union{AbstractVector{Continuous}, AbstractVector{Count}}}\n",
      "│ input_scitype(model) = Table{var\"#s46\"} where var\"#s46\"<:(AbstractVector{var\"#s9\"} where var\"#s9\"<:Continuous).\n",
      "└ @ MLJBase /Users/xinyuejia/.julia/packages/MLJBase/Wo1cb/src/machines.jl:91\n",
      "\u001b[33mEvaluating over 80 metamodels:  30%[=======>                 ]  ETA: 0:00:14\u001b[39m┌ Warning: The scitype of `X`, in `machine(model, X, ...)` is incompatible with `model=\u001b[34mXGBoostCount @128\u001b[39m`:\n",
      "│ scitype(X) = Table{Union{AbstractVector{Continuous}, AbstractVector{Count}}}\n",
      "│ input_scitype(model) = Table{var\"#s46\"} where var\"#s46\"<:(AbstractVector{var\"#s9\"} where var\"#s9\"<:Continuous).\n",
      "└ @ MLJBase /Users/xinyuejia/.julia/packages/MLJBase/Wo1cb/src/machines.jl:91\n",
      "\u001b[33mEvaluating over 80 metamodels:  31%[=======>                 ]  ETA: 0:00:14\u001b[39m┌ Warning: The scitype of `X`, in `machine(model, X, ...)` is incompatible with `model=\u001b[34mXGBoostCount @606\u001b[39m`:\n",
      "│ scitype(X) = Table{Union{AbstractVector{Continuous}, AbstractVector{Count}}}\n",
      "│ input_scitype(model) = Table{var\"#s46\"} where var\"#s46\"<:(AbstractVector{var\"#s9\"} where var\"#s9\"<:Continuous).\n",
      "└ @ MLJBase /Users/xinyuejia/.julia/packages/MLJBase/Wo1cb/src/machines.jl:91\n",
      "\u001b[33mEvaluating over 80 metamodels:  32%[========>                ]  ETA: 0:00:13\u001b[39m┌ Warning: The scitype of `X`, in `machine(model, X, ...)` is incompatible with `model=\u001b[34mXGBoostCount @581\u001b[39m`:\n",
      "│ scitype(X) = Table{Union{AbstractVector{Continuous}, AbstractVector{Count}}}\n",
      "│ input_scitype(model) = Table{var\"#s46\"} where var\"#s46\"<:(AbstractVector{var\"#s9\"} where var\"#s9\"<:Continuous).\n",
      "└ @ MLJBase /Users/xinyuejia/.julia/packages/MLJBase/Wo1cb/src/machines.jl:91\n",
      "\u001b[33mEvaluating over 80 metamodels:  34%[========>                ]  ETA: 0:00:13\u001b[39m┌ Warning: The scitype of `X`, in `machine(model, X, ...)` is incompatible with `model=\u001b[34mXGBoostCount @720\u001b[39m`:\n",
      "│ scitype(X) = Table{Union{AbstractVector{Continuous}, AbstractVector{Count}}}\n",
      "│ input_scitype(model) = Table{var\"#s46\"} where var\"#s46\"<:(AbstractVector{var\"#s9\"} where var\"#s9\"<:Continuous).\n",
      "└ @ MLJBase /Users/xinyuejia/.julia/packages/MLJBase/Wo1cb/src/machines.jl:91\n",
      "\u001b[33mEvaluating over 80 metamodels:  35%[========>                ]  ETA: 0:00:12\u001b[39m┌ Warning: The scitype of `X`, in `machine(model, X, ...)` is incompatible with `model=\u001b[34mXGBoostCount @301\u001b[39m`:\n",
      "│ scitype(X) = Table{Union{AbstractVector{Continuous}, AbstractVector{Count}}}\n",
      "│ input_scitype(model) = Table{var\"#s46\"} where var\"#s46\"<:(AbstractVector{var\"#s9\"} where var\"#s9\"<:Continuous).\n",
      "└ @ MLJBase /Users/xinyuejia/.julia/packages/MLJBase/Wo1cb/src/machines.jl:91\n",
      "\u001b[33mEvaluating over 80 metamodels:  36%[=========>               ]  ETA: 0:00:12\u001b[39m┌ Warning: The scitype of `X`, in `machine(model, X, ...)` is incompatible with `model=\u001b[34mXGBoostCount @951\u001b[39m`:\n",
      "│ scitype(X) = Table{Union{AbstractVector{Continuous}, AbstractVector{Count}}}\n",
      "│ input_scitype(model) = Table{var\"#s46\"} where var\"#s46\"<:(AbstractVector{var\"#s9\"} where var\"#s9\"<:Continuous).\n",
      "└ @ MLJBase /Users/xinyuejia/.julia/packages/MLJBase/Wo1cb/src/machines.jl:91\n",
      "\u001b[33mEvaluating over 80 metamodels:  38%[=========>               ]  ETA: 0:00:12\u001b[39m┌ Warning: The scitype of `X`, in `machine(model, X, ...)` is incompatible with `model=\u001b[34mXGBoostCount @472\u001b[39m`:\n",
      "│ scitype(X) = Table{Union{AbstractVector{Continuous}, AbstractVector{Count}}}\n",
      "│ input_scitype(model) = Table{var\"#s46\"} where var\"#s46\"<:(AbstractVector{var\"#s9\"} where var\"#s9\"<:Continuous).\n",
      "└ @ MLJBase /Users/xinyuejia/.julia/packages/MLJBase/Wo1cb/src/machines.jl:91\n",
      "\u001b[33mEvaluating over 80 metamodels:  39%[=========>               ]  ETA: 0:00:12\u001b[39m┌ Warning: The scitype of `X`, in `machine(model, X, ...)` is incompatible with `model=\u001b[34mXGBoostCount @245\u001b[39m`:\n",
      "│ scitype(X) = Table{Union{AbstractVector{Continuous}, AbstractVector{Count}}}\n",
      "│ input_scitype(model) = Table{var\"#s46\"} where var\"#s46\"<:(AbstractVector{var\"#s9\"} where var\"#s9\"<:Continuous).\n",
      "└ @ MLJBase /Users/xinyuejia/.julia/packages/MLJBase/Wo1cb/src/machines.jl:91\n",
      "\u001b[33mEvaluating over 80 metamodels:  40%[==========>              ]  ETA: 0:00:11\u001b[39m┌ Warning: The scitype of `X`, in `machine(model, X, ...)` is incompatible with `model=\u001b[34mXGBoostCount @760\u001b[39m`:\n",
      "│ scitype(X) = Table{Union{AbstractVector{Continuous}, AbstractVector{Count}}}\n",
      "│ input_scitype(model) = Table{var\"#s46\"} where var\"#s46\"<:(AbstractVector{var\"#s9\"} where var\"#s9\"<:Continuous).\n",
      "└ @ MLJBase /Users/xinyuejia/.julia/packages/MLJBase/Wo1cb/src/machines.jl:91\n",
      "\u001b[33mEvaluating over 80 metamodels:  41%[==========>              ]  ETA: 0:00:11\u001b[39m┌ Warning: The scitype of `X`, in `machine(model, X, ...)` is incompatible with `model=\u001b[34mXGBoostCount @857\u001b[39m`:\n",
      "│ scitype(X) = Table{Union{AbstractVector{Continuous}, AbstractVector{Count}}}\n",
      "│ input_scitype(model) = Table{var\"#s46\"} where var\"#s46\"<:(AbstractVector{var\"#s9\"} where var\"#s9\"<:Continuous).\n",
      "└ @ MLJBase /Users/xinyuejia/.julia/packages/MLJBase/Wo1cb/src/machines.jl:91\n"
     ]
    },
    {
     "name": "stderr",
     "output_type": "stream",
     "text": [
      "\u001b[33mEvaluating over 80 metamodels:  42%[==========>              ]  ETA: 0:00:11\u001b[39m┌ Warning: The scitype of `X`, in `machine(model, X, ...)` is incompatible with `model=\u001b[34mXGBoostCount @841\u001b[39m`:\n",
      "│ scitype(X) = Table{Union{AbstractVector{Continuous}, AbstractVector{Count}}}\n",
      "│ input_scitype(model) = Table{var\"#s46\"} where var\"#s46\"<:(AbstractVector{var\"#s9\"} where var\"#s9\"<:Continuous).\n",
      "└ @ MLJBase /Users/xinyuejia/.julia/packages/MLJBase/Wo1cb/src/machines.jl:91\n",
      "\u001b[33mEvaluating over 80 metamodels:  44%[==========>              ]  ETA: 0:00:11\u001b[39m┌ Warning: The scitype of `X`, in `machine(model, X, ...)` is incompatible with `model=\u001b[34mXGBoostCount @433\u001b[39m`:\n",
      "│ scitype(X) = Table{Union{AbstractVector{Continuous}, AbstractVector{Count}}}\n",
      "│ input_scitype(model) = Table{var\"#s46\"} where var\"#s46\"<:(AbstractVector{var\"#s9\"} where var\"#s9\"<:Continuous).\n",
      "└ @ MLJBase /Users/xinyuejia/.julia/packages/MLJBase/Wo1cb/src/machines.jl:91\n",
      "\u001b[33mEvaluating over 80 metamodels:  45%[===========>             ]  ETA: 0:00:11\u001b[39m┌ Warning: The scitype of `X`, in `machine(model, X, ...)` is incompatible with `model=\u001b[34mXGBoostCount @994\u001b[39m`:\n",
      "│ scitype(X) = Table{Union{AbstractVector{Continuous}, AbstractVector{Count}}}\n",
      "│ input_scitype(model) = Table{var\"#s46\"} where var\"#s46\"<:(AbstractVector{var\"#s9\"} where var\"#s9\"<:Continuous).\n",
      "└ @ MLJBase /Users/xinyuejia/.julia/packages/MLJBase/Wo1cb/src/machines.jl:91\n",
      "\u001b[33mEvaluating over 80 metamodels:  46%[===========>             ]  ETA: 0:00:10\u001b[39m┌ Warning: The scitype of `X`, in `machine(model, X, ...)` is incompatible with `model=\u001b[34mXGBoostCount @864\u001b[39m`:\n",
      "│ scitype(X) = Table{Union{AbstractVector{Continuous}, AbstractVector{Count}}}\n",
      "│ input_scitype(model) = Table{var\"#s46\"} where var\"#s46\"<:(AbstractVector{var\"#s9\"} where var\"#s9\"<:Continuous).\n",
      "└ @ MLJBase /Users/xinyuejia/.julia/packages/MLJBase/Wo1cb/src/machines.jl:91\n",
      "\u001b[33mEvaluating over 80 metamodels:  48%[===========>             ]  ETA: 0:00:10\u001b[39m┌ Warning: The scitype of `X`, in `machine(model, X, ...)` is incompatible with `model=\u001b[34mXGBoostCount @928\u001b[39m`:\n",
      "│ scitype(X) = Table{Union{AbstractVector{Continuous}, AbstractVector{Count}}}\n",
      "│ input_scitype(model) = Table{var\"#s46\"} where var\"#s46\"<:(AbstractVector{var\"#s9\"} where var\"#s9\"<:Continuous).\n",
      "└ @ MLJBase /Users/xinyuejia/.julia/packages/MLJBase/Wo1cb/src/machines.jl:91\n",
      "\u001b[33mEvaluating over 80 metamodels:  49%[============>            ]  ETA: 0:00:10\u001b[39m┌ Warning: The scitype of `X`, in `machine(model, X, ...)` is incompatible with `model=\u001b[34mXGBoostCount @387\u001b[39m`:\n",
      "│ scitype(X) = Table{Union{AbstractVector{Continuous}, AbstractVector{Count}}}\n",
      "│ input_scitype(model) = Table{var\"#s46\"} where var\"#s46\"<:(AbstractVector{var\"#s9\"} where var\"#s9\"<:Continuous).\n",
      "└ @ MLJBase /Users/xinyuejia/.julia/packages/MLJBase/Wo1cb/src/machines.jl:91\n",
      "\u001b[33mEvaluating over 80 metamodels:  50%[============>            ]  ETA: 0:00:10\u001b[39m┌ Warning: The scitype of `X`, in `machine(model, X, ...)` is incompatible with `model=\u001b[34mXGBoostCount @874\u001b[39m`:\n",
      "│ scitype(X) = Table{Union{AbstractVector{Continuous}, AbstractVector{Count}}}\n",
      "│ input_scitype(model) = Table{var\"#s46\"} where var\"#s46\"<:(AbstractVector{var\"#s9\"} where var\"#s9\"<:Continuous).\n",
      "└ @ MLJBase /Users/xinyuejia/.julia/packages/MLJBase/Wo1cb/src/machines.jl:91\n",
      "\u001b[33mEvaluating over 80 metamodels:  51%[============>            ]  ETA: 0:00:09\u001b[39m┌ Warning: The scitype of `X`, in `machine(model, X, ...)` is incompatible with `model=\u001b[34mXGBoostCount @837\u001b[39m`:\n",
      "│ scitype(X) = Table{Union{AbstractVector{Continuous}, AbstractVector{Count}}}\n",
      "│ input_scitype(model) = Table{var\"#s46\"} where var\"#s46\"<:(AbstractVector{var\"#s9\"} where var\"#s9\"<:Continuous).\n",
      "└ @ MLJBase /Users/xinyuejia/.julia/packages/MLJBase/Wo1cb/src/machines.jl:91\n",
      "\u001b[33mEvaluating over 80 metamodels:  52%[=============>           ]  ETA: 0:00:09\u001b[39m┌ Warning: The scitype of `X`, in `machine(model, X, ...)` is incompatible with `model=\u001b[34mXGBoostCount @530\u001b[39m`:\n",
      "│ scitype(X) = Table{Union{AbstractVector{Continuous}, AbstractVector{Count}}}\n",
      "│ input_scitype(model) = Table{var\"#s46\"} where var\"#s46\"<:(AbstractVector{var\"#s9\"} where var\"#s9\"<:Continuous).\n",
      "└ @ MLJBase /Users/xinyuejia/.julia/packages/MLJBase/Wo1cb/src/machines.jl:91\n",
      "\u001b[33mEvaluating over 80 metamodels:  54%[=============>           ]  ETA: 0:00:09\u001b[39m┌ Warning: The scitype of `X`, in `machine(model, X, ...)` is incompatible with `model=\u001b[34mXGBoostCount @140\u001b[39m`:\n",
      "│ scitype(X) = Table{Union{AbstractVector{Continuous}, AbstractVector{Count}}}\n",
      "│ input_scitype(model) = Table{var\"#s46\"} where var\"#s46\"<:(AbstractVector{var\"#s9\"} where var\"#s9\"<:Continuous).\n",
      "└ @ MLJBase /Users/xinyuejia/.julia/packages/MLJBase/Wo1cb/src/machines.jl:91\n",
      "\u001b[33mEvaluating over 80 metamodels:  55%[=============>           ]  ETA: 0:00:09\u001b[39m┌ Warning: The scitype of `X`, in `machine(model, X, ...)` is incompatible with `model=\u001b[34mXGBoostCount @429\u001b[39m`:\n",
      "│ scitype(X) = Table{Union{AbstractVector{Continuous}, AbstractVector{Count}}}\n",
      "│ input_scitype(model) = Table{var\"#s46\"} where var\"#s46\"<:(AbstractVector{var\"#s9\"} where var\"#s9\"<:Continuous).\n",
      "└ @ MLJBase /Users/xinyuejia/.julia/packages/MLJBase/Wo1cb/src/machines.jl:91\n",
      "\u001b[33mEvaluating over 80 metamodels:  56%[==============>          ]  ETA: 0:00:08\u001b[39m┌ Warning: The scitype of `X`, in `machine(model, X, ...)` is incompatible with `model=\u001b[34mXGBoostCount @660\u001b[39m`:\n",
      "│ scitype(X) = Table{Union{AbstractVector{Continuous}, AbstractVector{Count}}}\n",
      "│ input_scitype(model) = Table{var\"#s46\"} where var\"#s46\"<:(AbstractVector{var\"#s9\"} where var\"#s9\"<:Continuous).\n",
      "└ @ MLJBase /Users/xinyuejia/.julia/packages/MLJBase/Wo1cb/src/machines.jl:91\n",
      "\u001b[33mEvaluating over 80 metamodels:  58%[==============>          ]  ETA: 0:00:08\u001b[39m┌ Warning: The scitype of `X`, in `machine(model, X, ...)` is incompatible with `model=\u001b[34mXGBoostCount @176\u001b[39m`:\n",
      "│ scitype(X) = Table{Union{AbstractVector{Continuous}, AbstractVector{Count}}}\n",
      "│ input_scitype(model) = Table{var\"#s46\"} where var\"#s46\"<:(AbstractVector{var\"#s9\"} where var\"#s9\"<:Continuous).\n",
      "└ @ MLJBase /Users/xinyuejia/.julia/packages/MLJBase/Wo1cb/src/machines.jl:91\n",
      "\u001b[33mEvaluating over 80 metamodels:  59%[==============>          ]  ETA: 0:00:08\u001b[39m┌ Warning: The scitype of `X`, in `machine(model, X, ...)` is incompatible with `model=\u001b[34mXGBoostCount @416\u001b[39m`:\n",
      "│ scitype(X) = Table{Union{AbstractVector{Continuous}, AbstractVector{Count}}}\n",
      "│ input_scitype(model) = Table{var\"#s46\"} where var\"#s46\"<:(AbstractVector{var\"#s9\"} where var\"#s9\"<:Continuous).\n",
      "└ @ MLJBase /Users/xinyuejia/.julia/packages/MLJBase/Wo1cb/src/machines.jl:91\n",
      "\u001b[33mEvaluating over 80 metamodels:  60%[===============>         ]  ETA: 0:00:08\u001b[39m┌ Warning: The scitype of `X`, in `machine(model, X, ...)` is incompatible with `model=\u001b[34mXGBoostCount @648\u001b[39m`:\n",
      "│ scitype(X) = Table{Union{AbstractVector{Continuous}, AbstractVector{Count}}}\n",
      "│ input_scitype(model) = Table{var\"#s46\"} where var\"#s46\"<:(AbstractVector{var\"#s9\"} where var\"#s9\"<:Continuous).\n",
      "└ @ MLJBase /Users/xinyuejia/.julia/packages/MLJBase/Wo1cb/src/machines.jl:91\n",
      "\u001b[33mEvaluating over 80 metamodels:  61%[===============>         ]  ETA: 0:00:07\u001b[39m┌ Warning: The scitype of `X`, in `machine(model, X, ...)` is incompatible with `model=\u001b[34mXGBoostCount @753\u001b[39m`:\n",
      "│ scitype(X) = Table{Union{AbstractVector{Continuous}, AbstractVector{Count}}}\n",
      "│ input_scitype(model) = Table{var\"#s46\"} where var\"#s46\"<:(AbstractVector{var\"#s9\"} where var\"#s9\"<:Continuous).\n",
      "└ @ MLJBase /Users/xinyuejia/.julia/packages/MLJBase/Wo1cb/src/machines.jl:91\n",
      "\u001b[33mEvaluating over 80 metamodels:  62%[===============>         ]  ETA: 0:00:07\u001b[39m┌ Warning: The scitype of `X`, in `machine(model, X, ...)` is incompatible with `model=\u001b[34mXGBoostCount @110\u001b[39m`:\n",
      "│ scitype(X) = Table{Union{AbstractVector{Continuous}, AbstractVector{Count}}}\n",
      "│ input_scitype(model) = Table{var\"#s46\"} where var\"#s46\"<:(AbstractVector{var\"#s9\"} where var\"#s9\"<:Continuous).\n",
      "└ @ MLJBase /Users/xinyuejia/.julia/packages/MLJBase/Wo1cb/src/machines.jl:91\n",
      "\u001b[33mEvaluating over 80 metamodels:  64%[===============>         ]  ETA: 0:00:07\u001b[39m┌ Warning: The scitype of `X`, in `machine(model, X, ...)` is incompatible with `model=\u001b[34mXGBoostCount @138\u001b[39m`:\n",
      "│ scitype(X) = Table{Union{AbstractVector{Continuous}, AbstractVector{Count}}}\n",
      "│ input_scitype(model) = Table{var\"#s46\"} where var\"#s46\"<:(AbstractVector{var\"#s9\"} where var\"#s9\"<:Continuous).\n",
      "└ @ MLJBase /Users/xinyuejia/.julia/packages/MLJBase/Wo1cb/src/machines.jl:91\n"
     ]
    },
    {
     "name": "stderr",
     "output_type": "stream",
     "text": [
      "\u001b[33mEvaluating over 80 metamodels:  65%[================>        ]  ETA: 0:00:07\u001b[39m┌ Warning: The scitype of `X`, in `machine(model, X, ...)` is incompatible with `model=\u001b[34mXGBoostCount @110\u001b[39m`:\n",
      "│ scitype(X) = Table{Union{AbstractVector{Continuous}, AbstractVector{Count}}}\n",
      "│ input_scitype(model) = Table{var\"#s46\"} where var\"#s46\"<:(AbstractVector{var\"#s9\"} where var\"#s9\"<:Continuous).\n",
      "└ @ MLJBase /Users/xinyuejia/.julia/packages/MLJBase/Wo1cb/src/machines.jl:91\n",
      "\u001b[33mEvaluating over 80 metamodels:  66%[================>        ]  ETA: 0:00:06\u001b[39m┌ Warning: The scitype of `X`, in `machine(model, X, ...)` is incompatible with `model=\u001b[34mXGBoostCount @723\u001b[39m`:\n",
      "│ scitype(X) = Table{Union{AbstractVector{Continuous}, AbstractVector{Count}}}\n",
      "│ input_scitype(model) = Table{var\"#s46\"} where var\"#s46\"<:(AbstractVector{var\"#s9\"} where var\"#s9\"<:Continuous).\n",
      "└ @ MLJBase /Users/xinyuejia/.julia/packages/MLJBase/Wo1cb/src/machines.jl:91\n",
      "\u001b[33mEvaluating over 80 metamodels:  68%[================>        ]  ETA: 0:00:06\u001b[39m┌ Warning: The scitype of `X`, in `machine(model, X, ...)` is incompatible with `model=\u001b[34mXGBoostCount @268\u001b[39m`:\n",
      "│ scitype(X) = Table{Union{AbstractVector{Continuous}, AbstractVector{Count}}}\n",
      "│ input_scitype(model) = Table{var\"#s46\"} where var\"#s46\"<:(AbstractVector{var\"#s9\"} where var\"#s9\"<:Continuous).\n",
      "└ @ MLJBase /Users/xinyuejia/.julia/packages/MLJBase/Wo1cb/src/machines.jl:91\n",
      "\u001b[33mEvaluating over 80 metamodels:  69%[=================>       ]  ETA: 0:00:06\u001b[39m┌ Warning: The scitype of `X`, in `machine(model, X, ...)` is incompatible with `model=\u001b[34mXGBoostCount @072\u001b[39m`:\n",
      "│ scitype(X) = Table{Union{AbstractVector{Continuous}, AbstractVector{Count}}}\n",
      "│ input_scitype(model) = Table{var\"#s46\"} where var\"#s46\"<:(AbstractVector{var\"#s9\"} where var\"#s9\"<:Continuous).\n",
      "└ @ MLJBase /Users/xinyuejia/.julia/packages/MLJBase/Wo1cb/src/machines.jl:91\n",
      "\u001b[33mEvaluating over 80 metamodels:  70%[=================>       ]  ETA: 0:00:06\u001b[39m┌ Warning: The scitype of `X`, in `machine(model, X, ...)` is incompatible with `model=\u001b[34mXGBoostCount @448\u001b[39m`:\n",
      "│ scitype(X) = Table{Union{AbstractVector{Continuous}, AbstractVector{Count}}}\n",
      "│ input_scitype(model) = Table{var\"#s46\"} where var\"#s46\"<:(AbstractVector{var\"#s9\"} where var\"#s9\"<:Continuous).\n",
      "└ @ MLJBase /Users/xinyuejia/.julia/packages/MLJBase/Wo1cb/src/machines.jl:91\n",
      "\u001b[33mEvaluating over 80 metamodels:  71%[=================>       ]  ETA: 0:00:05\u001b[39m┌ Warning: The scitype of `X`, in `machine(model, X, ...)` is incompatible with `model=\u001b[34mXGBoostCount @802\u001b[39m`:\n",
      "│ scitype(X) = Table{Union{AbstractVector{Continuous}, AbstractVector{Count}}}\n",
      "│ input_scitype(model) = Table{var\"#s46\"} where var\"#s46\"<:(AbstractVector{var\"#s9\"} where var\"#s9\"<:Continuous).\n",
      "└ @ MLJBase /Users/xinyuejia/.julia/packages/MLJBase/Wo1cb/src/machines.jl:91\n",
      "\u001b[33mEvaluating over 80 metamodels:  72%[==================>      ]  ETA: 0:00:05\u001b[39m┌ Warning: The scitype of `X`, in `machine(model, X, ...)` is incompatible with `model=\u001b[34mXGBoostCount @832\u001b[39m`:\n",
      "│ scitype(X) = Table{Union{AbstractVector{Continuous}, AbstractVector{Count}}}\n",
      "│ input_scitype(model) = Table{var\"#s46\"} where var\"#s46\"<:(AbstractVector{var\"#s9\"} where var\"#s9\"<:Continuous).\n",
      "└ @ MLJBase /Users/xinyuejia/.julia/packages/MLJBase/Wo1cb/src/machines.jl:91\n",
      "\u001b[33mEvaluating over 80 metamodels:  74%[==================>      ]  ETA: 0:00:05\u001b[39m┌ Warning: The scitype of `X`, in `machine(model, X, ...)` is incompatible with `model=\u001b[34mXGBoostCount @491\u001b[39m`:\n",
      "│ scitype(X) = Table{Union{AbstractVector{Continuous}, AbstractVector{Count}}}\n",
      "│ input_scitype(model) = Table{var\"#s46\"} where var\"#s46\"<:(AbstractVector{var\"#s9\"} where var\"#s9\"<:Continuous).\n",
      "└ @ MLJBase /Users/xinyuejia/.julia/packages/MLJBase/Wo1cb/src/machines.jl:91\n",
      "\u001b[33mEvaluating over 80 metamodels:  75%[==================>      ]  ETA: 0:00:05\u001b[39m┌ Warning: The scitype of `X`, in `machine(model, X, ...)` is incompatible with `model=\u001b[34mXGBoostCount @891\u001b[39m`:\n",
      "│ scitype(X) = Table{Union{AbstractVector{Continuous}, AbstractVector{Count}}}\n",
      "│ input_scitype(model) = Table{var\"#s46\"} where var\"#s46\"<:(AbstractVector{var\"#s9\"} where var\"#s9\"<:Continuous).\n",
      "└ @ MLJBase /Users/xinyuejia/.julia/packages/MLJBase/Wo1cb/src/machines.jl:91\n",
      "\u001b[33mEvaluating over 80 metamodels:  76%[===================>     ]  ETA: 0:00:04\u001b[39m┌ Warning: The scitype of `X`, in `machine(model, X, ...)` is incompatible with `model=\u001b[34mXGBoostCount @476\u001b[39m`:\n",
      "│ scitype(X) = Table{Union{AbstractVector{Continuous}, AbstractVector{Count}}}\n",
      "│ input_scitype(model) = Table{var\"#s46\"} where var\"#s46\"<:(AbstractVector{var\"#s9\"} where var\"#s9\"<:Continuous).\n",
      "└ @ MLJBase /Users/xinyuejia/.julia/packages/MLJBase/Wo1cb/src/machines.jl:91\n",
      "\u001b[33mEvaluating over 80 metamodels:  78%[===================>     ]  ETA: 0:00:04\u001b[39m┌ Warning: The scitype of `X`, in `machine(model, X, ...)` is incompatible with `model=\u001b[34mXGBoostCount @828\u001b[39m`:\n",
      "│ scitype(X) = Table{Union{AbstractVector{Continuous}, AbstractVector{Count}}}\n",
      "│ input_scitype(model) = Table{var\"#s46\"} where var\"#s46\"<:(AbstractVector{var\"#s9\"} where var\"#s9\"<:Continuous).\n",
      "└ @ MLJBase /Users/xinyuejia/.julia/packages/MLJBase/Wo1cb/src/machines.jl:91\n",
      "\u001b[33mEvaluating over 80 metamodels:  79%[===================>     ]  ETA: 0:00:04\u001b[39m┌ Warning: The scitype of `X`, in `machine(model, X, ...)` is incompatible with `model=\u001b[34mXGBoostCount @553\u001b[39m`:\n",
      "│ scitype(X) = Table{Union{AbstractVector{Continuous}, AbstractVector{Count}}}\n",
      "│ input_scitype(model) = Table{var\"#s46\"} where var\"#s46\"<:(AbstractVector{var\"#s9\"} where var\"#s9\"<:Continuous).\n",
      "└ @ MLJBase /Users/xinyuejia/.julia/packages/MLJBase/Wo1cb/src/machines.jl:91\n",
      "\u001b[33mEvaluating over 80 metamodels:  80%[====================>    ]  ETA: 0:00:04\u001b[39m┌ Warning: The scitype of `X`, in `machine(model, X, ...)` is incompatible with `model=\u001b[34mXGBoostCount @481\u001b[39m`:\n",
      "│ scitype(X) = Table{Union{AbstractVector{Continuous}, AbstractVector{Count}}}\n",
      "│ input_scitype(model) = Table{var\"#s46\"} where var\"#s46\"<:(AbstractVector{var\"#s9\"} where var\"#s9\"<:Continuous).\n",
      "└ @ MLJBase /Users/xinyuejia/.julia/packages/MLJBase/Wo1cb/src/machines.jl:91\n",
      "\u001b[33mEvaluating over 80 metamodels:  81%[====================>    ]  ETA: 0:00:03\u001b[39m┌ Warning: The scitype of `X`, in `machine(model, X, ...)` is incompatible with `model=\u001b[34mXGBoostCount @692\u001b[39m`:\n",
      "│ scitype(X) = Table{Union{AbstractVector{Continuous}, AbstractVector{Count}}}\n",
      "│ input_scitype(model) = Table{var\"#s46\"} where var\"#s46\"<:(AbstractVector{var\"#s9\"} where var\"#s9\"<:Continuous).\n",
      "└ @ MLJBase /Users/xinyuejia/.julia/packages/MLJBase/Wo1cb/src/machines.jl:91\n",
      "\u001b[33mEvaluating over 80 metamodels:  82%[====================>    ]  ETA: 0:00:03\u001b[39m┌ Warning: The scitype of `X`, in `machine(model, X, ...)` is incompatible with `model=\u001b[34mXGBoostCount @102\u001b[39m`:\n",
      "│ scitype(X) = Table{Union{AbstractVector{Continuous}, AbstractVector{Count}}}\n",
      "│ input_scitype(model) = Table{var\"#s46\"} where var\"#s46\"<:(AbstractVector{var\"#s9\"} where var\"#s9\"<:Continuous).\n",
      "└ @ MLJBase /Users/xinyuejia/.julia/packages/MLJBase/Wo1cb/src/machines.jl:91\n",
      "\u001b[33mEvaluating over 80 metamodels:  84%[====================>    ]  ETA: 0:00:03\u001b[39m┌ Warning: The scitype of `X`, in `machine(model, X, ...)` is incompatible with `model=\u001b[34mXGBoostCount @908\u001b[39m`:\n",
      "│ scitype(X) = Table{Union{AbstractVector{Continuous}, AbstractVector{Count}}}\n",
      "│ input_scitype(model) = Table{var\"#s46\"} where var\"#s46\"<:(AbstractVector{var\"#s9\"} where var\"#s9\"<:Continuous).\n",
      "└ @ MLJBase /Users/xinyuejia/.julia/packages/MLJBase/Wo1cb/src/machines.jl:91\n",
      "\u001b[33mEvaluating over 80 metamodels:  85%[=====================>   ]  ETA: 0:00:03\u001b[39m┌ Warning: The scitype of `X`, in `machine(model, X, ...)` is incompatible with `model=\u001b[34mXGBoostCount @299\u001b[39m`:\n",
      "│ scitype(X) = Table{Union{AbstractVector{Continuous}, AbstractVector{Count}}}\n",
      "│ input_scitype(model) = Table{var\"#s46\"} where var\"#s46\"<:(AbstractVector{var\"#s9\"} where var\"#s9\"<:Continuous).\n",
      "└ @ MLJBase /Users/xinyuejia/.julia/packages/MLJBase/Wo1cb/src/machines.jl:91\n",
      "\u001b[33mEvaluating over 80 metamodels:  86%[=====================>   ]  ETA: 0:00:03\u001b[39m┌ Warning: The scitype of `X`, in `machine(model, X, ...)` is incompatible with `model=\u001b[34mXGBoostCount @592\u001b[39m`:\n",
      "│ scitype(X) = Table{Union{AbstractVector{Continuous}, AbstractVector{Count}}}\n",
      "│ input_scitype(model) = Table{var\"#s46\"} where var\"#s46\"<:(AbstractVector{var\"#s9\"} where var\"#s9\"<:Continuous).\n",
      "└ @ MLJBase /Users/xinyuejia/.julia/packages/MLJBase/Wo1cb/src/machines.jl:91\n"
     ]
    },
    {
     "name": "stderr",
     "output_type": "stream",
     "text": [
      "\u001b[33mEvaluating over 80 metamodels:  88%[=====================>   ]  ETA: 0:00:02\u001b[39m┌ Warning: The scitype of `X`, in `machine(model, X, ...)` is incompatible with `model=\u001b[34mXGBoostCount @660\u001b[39m`:\n",
      "│ scitype(X) = Table{Union{AbstractVector{Continuous}, AbstractVector{Count}}}\n",
      "│ input_scitype(model) = Table{var\"#s46\"} where var\"#s46\"<:(AbstractVector{var\"#s9\"} where var\"#s9\"<:Continuous).\n",
      "└ @ MLJBase /Users/xinyuejia/.julia/packages/MLJBase/Wo1cb/src/machines.jl:91\n",
      "\u001b[33mEvaluating over 80 metamodels:  89%[======================>  ]  ETA: 0:00:02\u001b[39m┌ Warning: The scitype of `X`, in `machine(model, X, ...)` is incompatible with `model=\u001b[34mXGBoostCount @960\u001b[39m`:\n",
      "│ scitype(X) = Table{Union{AbstractVector{Continuous}, AbstractVector{Count}}}\n",
      "│ input_scitype(model) = Table{var\"#s46\"} where var\"#s46\"<:(AbstractVector{var\"#s9\"} where var\"#s9\"<:Continuous).\n",
      "└ @ MLJBase /Users/xinyuejia/.julia/packages/MLJBase/Wo1cb/src/machines.jl:91\n",
      "\u001b[33mEvaluating over 80 metamodels:  90%[======================>  ]  ETA: 0:00:02\u001b[39m┌ Warning: The scitype of `X`, in `machine(model, X, ...)` is incompatible with `model=\u001b[34mXGBoostCount @753\u001b[39m`:\n",
      "│ scitype(X) = Table{Union{AbstractVector{Continuous}, AbstractVector{Count}}}\n",
      "│ input_scitype(model) = Table{var\"#s46\"} where var\"#s46\"<:(AbstractVector{var\"#s9\"} where var\"#s9\"<:Continuous).\n",
      "└ @ MLJBase /Users/xinyuejia/.julia/packages/MLJBase/Wo1cb/src/machines.jl:91\n",
      "\u001b[33mEvaluating over 80 metamodels:  91%[======================>  ]  ETA: 0:00:02\u001b[39m┌ Warning: The scitype of `X`, in `machine(model, X, ...)` is incompatible with `model=\u001b[34mXGBoostCount @813\u001b[39m`:\n",
      "│ scitype(X) = Table{Union{AbstractVector{Continuous}, AbstractVector{Count}}}\n",
      "│ input_scitype(model) = Table{var\"#s46\"} where var\"#s46\"<:(AbstractVector{var\"#s9\"} where var\"#s9\"<:Continuous).\n",
      "└ @ MLJBase /Users/xinyuejia/.julia/packages/MLJBase/Wo1cb/src/machines.jl:91\n",
      "\u001b[33mEvaluating over 80 metamodels:  92%[=======================> ]  ETA: 0:00:01\u001b[39m┌ Warning: The scitype of `X`, in `machine(model, X, ...)` is incompatible with `model=\u001b[34mXGBoostCount @319\u001b[39m`:\n",
      "│ scitype(X) = Table{Union{AbstractVector{Continuous}, AbstractVector{Count}}}\n",
      "│ input_scitype(model) = Table{var\"#s46\"} where var\"#s46\"<:(AbstractVector{var\"#s9\"} where var\"#s9\"<:Continuous).\n",
      "└ @ MLJBase /Users/xinyuejia/.julia/packages/MLJBase/Wo1cb/src/machines.jl:91\n",
      "\u001b[33mEvaluating over 80 metamodels:  94%[=======================> ]  ETA: 0:00:01\u001b[39m┌ Warning: The scitype of `X`, in `machine(model, X, ...)` is incompatible with `model=\u001b[34mXGBoostCount @019\u001b[39m`:\n",
      "│ scitype(X) = Table{Union{AbstractVector{Continuous}, AbstractVector{Count}}}\n",
      "│ input_scitype(model) = Table{var\"#s46\"} where var\"#s46\"<:(AbstractVector{var\"#s9\"} where var\"#s9\"<:Continuous).\n",
      "└ @ MLJBase /Users/xinyuejia/.julia/packages/MLJBase/Wo1cb/src/machines.jl:91\n",
      "\u001b[33mEvaluating over 80 metamodels:  95%[=======================> ]  ETA: 0:00:01\u001b[39m┌ Warning: The scitype of `X`, in `machine(model, X, ...)` is incompatible with `model=\u001b[34mXGBoostCount @666\u001b[39m`:\n",
      "│ scitype(X) = Table{Union{AbstractVector{Continuous}, AbstractVector{Count}}}\n",
      "│ input_scitype(model) = Table{var\"#s46\"} where var\"#s46\"<:(AbstractVector{var\"#s9\"} where var\"#s9\"<:Continuous).\n",
      "└ @ MLJBase /Users/xinyuejia/.julia/packages/MLJBase/Wo1cb/src/machines.jl:91\n",
      "\u001b[33mEvaluating over 80 metamodels:  96%[========================>]  ETA: 0:00:01\u001b[39m┌ Warning: The scitype of `X`, in `machine(model, X, ...)` is incompatible with `model=\u001b[34mXGBoostCount @322\u001b[39m`:\n",
      "│ scitype(X) = Table{Union{AbstractVector{Continuous}, AbstractVector{Count}}}\n",
      "│ input_scitype(model) = Table{var\"#s46\"} where var\"#s46\"<:(AbstractVector{var\"#s9\"} where var\"#s9\"<:Continuous).\n",
      "└ @ MLJBase /Users/xinyuejia/.julia/packages/MLJBase/Wo1cb/src/machines.jl:91\n",
      "\u001b[33mEvaluating over 80 metamodels:  98%[========================>]  ETA: 0:00:00\u001b[39m┌ Warning: The scitype of `X`, in `machine(model, X, ...)` is incompatible with `model=\u001b[34mXGBoostCount @417\u001b[39m`:\n",
      "│ scitype(X) = Table{Union{AbstractVector{Continuous}, AbstractVector{Count}}}\n",
      "│ input_scitype(model) = Table{var\"#s46\"} where var\"#s46\"<:(AbstractVector{var\"#s9\"} where var\"#s9\"<:Continuous).\n",
      "└ @ MLJBase /Users/xinyuejia/.julia/packages/MLJBase/Wo1cb/src/machines.jl:91\n",
      "\u001b[33mEvaluating over 80 metamodels:  99%[========================>]  ETA: 0:00:00\u001b[39m┌ Warning: The scitype of `X`, in `machine(model, X, ...)` is incompatible with `model=\u001b[34mXGBoostCount @633\u001b[39m`:\n",
      "│ scitype(X) = Table{Union{AbstractVector{Continuous}, AbstractVector{Count}}}\n",
      "│ input_scitype(model) = Table{var\"#s46\"} where var\"#s46\"<:(AbstractVector{var\"#s9\"} where var\"#s9\"<:Continuous).\n",
      "└ @ MLJBase /Users/xinyuejia/.julia/packages/MLJBase/Wo1cb/src/machines.jl:91\n",
      "\u001b[33mEvaluating over 80 metamodels: 100%[=========================] Time: 0:00:18\u001b[39m\n",
      "┌ Warning: The scitype of `X`, in `machine(model, X, ...)` is incompatible with `model=\u001b[34mXGBoostCount @033\u001b[39m`:\n",
      "│ scitype(X) = Table{Union{AbstractVector{Continuous}, AbstractVector{Count}}}\n",
      "│ input_scitype(model) = Table{var\"#s46\"} where var\"#s46\"<:(AbstractVector{var\"#s9\"} where var\"#s9\"<:Continuous).\n",
      "└ @ MLJBase /Users/xinyuejia/.julia/packages/MLJBase/Wo1cb/src/machines.jl:91\n"
     ]
    },
    {
     "data": {
      "text/plain": [
       "\u001b[34mMachine{DeterministicTunedModel{Grid,…},…} @178\u001b[39m trained 1 time; caches data\n",
       "  args: \n",
       "    1:\t\u001b[34mSource @708\u001b[39m ⏎ `Table{Union{AbstractVector{Continuous}, AbstractVector{Count}}}`\n",
       "    2:\t\u001b[34mSource @472\u001b[39m ⏎ `AbstractVector{Count}`\n"
      ]
     },
     "execution_count": 13,
     "metadata": {},
     "output_type": "execute_result"
    }
   ],
   "source": [
    "fit!(mtm, rows = train)"
   ]
  },
  {
   "cell_type": "code",
   "execution_count": null,
   "metadata": {},
   "outputs": [],
   "source": [
    "plot(mtm)"
   ]
  },
  {
   "cell_type": "code",
   "execution_count": 25,
   "metadata": {},
   "outputs": [
    {
     "data": {
      "text/plain": [
       "(parameter_names = [\"max_depth\", \"min_child_weight\"],\n",
       " parameter_scales = [:linear, :linear],\n",
       " parameter_values = Any[7 5.0; 5 0.5555555555555556; … ; 6 1.1111111111111112; 4 5.0],\n",
       " measurements = [8.246014595031738, 20515.560546875, 61.42761993408203, 292.1626281738281, 296.8984375, 648975.125, 648974.875, 14220.3037109375, 301.85809326171875, 244.93785095214844  …  3802.6884765625, 8.377054214477539, 527.9736938476562, 100.88300323486328, 17503.2109375, 621.4913330078125, 1.204026e8, 2.2041985e6, 2.21489425e6, 7.595742225646973],)"
      ]
     },
     "execution_count": 25,
     "metadata": {},
     "output_type": "execute_result"
    }
   ],
   "source": []
  },
  {
   "cell_type": "code",
   "execution_count": null,
   "metadata": {},
   "outputs": [],
   "source": []
  }
 ],
 "metadata": {
  "kernelspec": {
   "display_name": "Julia 1.6.0",
   "language": "julia",
   "name": "julia-1.6"
  },
  "language_info": {
   "file_extension": ".jl",
   "mimetype": "application/julia",
   "name": "julia",
   "version": "1.6.0"
  }
 },
 "nbformat": 4,
 "nbformat_minor": 2
}
